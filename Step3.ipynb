{
  "nbformat": 4,
  "nbformat_minor": 0,
  "metadata": {
    "colab": {
      "provenance": [],
      "collapsed_sections": [
        "f5tL4crnKIEk"
      ],
      "toc_visible": true
    },
    "kernelspec": {
      "name": "python3",
      "display_name": "Python 3"
    },
    "language_info": {
      "name": "python"
    }
  },
  "cells": [
    {
      "cell_type": "markdown",
      "source": [
        "\n",
        "<p>CS210-Data Science Project Phase#2</p>\n",
        "<p>2023-2024 Spring\n",
        "<p>Osman Şah Yılmaz</p>"
      ],
      "metadata": {
        "id": "CfP4LX4yCgof"
      }
    },
    {
      "cell_type": "markdown",
      "source": [
        "## Introduction\n",
        "\n",
        "<font color=\"white\">\n",
        "<h3>The exploration now includes an innovative dimension: analyzing the correlation between\n",
        "social media signals — measured through the weight of tweets consists “GPT” word— and stock\n",
        "market indicators for Nvidia. Initial findings suggest intriguing interplays between market\n",
        "sentiment, as expressed on social media, and the stock's trading performance. The daily\n",
        "granularity of the dataset provides a vivid depiction of the stock's rhythm, enhancing our\n",
        "understanding of its volatility and trading patterns.\n",
        "\n",
        "</font>"
      ],
      "metadata": {
        "id": "f5tL4crnKIEk"
      }
    },
    {
      "cell_type": "markdown",
      "source": [
        "### Utilized Datasets\n",
        "\n",
        "<font color=\"cyan\">\n",
        "https://www.kaggle.com/datasets/saketk511/2019-2024-us-stock-market-data\n",
        "</font> <br>\n",
        "<font color=\"cyan\">https://www.kaggle.com/datasets/konradb/gpt4-the-tweets</font> <br>\n"
      ],
      "metadata": {
        "id": "4_rXQN3HKYLh"
      }
    },
    {
      "cell_type": "markdown",
      "source": [
        "## ***Exploratory Data Analysis***"
      ],
      "metadata": {
        "id": "4zd56lM2KlXy"
      }
    },
    {
      "cell_type": "code",
      "execution_count": null,
      "metadata": {
        "colab": {
          "base_uri": "https://localhost:8080/"
        },
        "id": "HlYESwnmqYBp",
        "outputId": "0b2f9c35-fdd0-4028-c7ef-e7c8f311b2d9"
      },
      "outputs": [
        {
          "output_type": "stream",
          "name": "stdout",
          "text": [
            "Mounted at /content/drive\n"
          ]
        }
      ],
      "source": [
        "# Importing packages\n",
        "import pandas as pd\n",
        "import numpy as np\n",
        "import random as rnd\n",
        "\n",
        "# Importing visualization packages\n",
        "import seaborn as sns\n",
        "import matplotlib.pyplot as plt\n",
        "%matplotlib inline\n",
        "\n",
        "# Accessing Data with OS Path\n",
        "from os.path import join\n",
        "\n",
        "# Accessing data from Google Drive\n",
        "from google.colab import drive\n",
        "drive.mount('/content/drive')\n",
        "\n",
        "# to be used a prefix for all files\n",
        "path_prefix = \"/content/drive/My Drive/CS210/Project\""
      ]
    },
    {
      "cell_type": "code",
      "source": [
        "fname_stock = \"Stock Market Dataset.csv\"\n",
        "df_stock = pd.read_csv(join(path_prefix, fname_stock))"
      ],
      "metadata": {
        "id": "9HeZLeA_qoO2"
      },
      "execution_count": null,
      "outputs": []
    },
    {
      "cell_type": "code",
      "source": [
        "nvidia_df = df_stock.filter(['Date','Nvidia_Price','Nvidia_Vol.'], axis=1)\n",
        "nvidia_df['Date'] = pd.to_datetime(nvidia_df['Date'], dayfirst=True)\n",
        "nvidia_df = nvidia_df[(nvidia_df['Date'] >= '2022-12-05') & (nvidia_df['Date'] <= '2023-04-12')]"
      ],
      "metadata": {
        "id": "ldGCdRvZFIo1"
      },
      "execution_count": null,
      "outputs": []
    },
    {
      "cell_type": "code",
      "source": [
        "nvidia_vol_df = df_stock.filter(['Date','Nvidia_Price','Nvidia_Vol.'], axis=1)\n",
        "nvidia_df['Date'] = pd.to_datetime(nvidia_df['Date'], dayfirst=True)\n",
        "nvidia_df = nvidia_df[(nvidia_df['Date'] >= '2022-12-05') & (nvidia_df['Date'] <= '2023-04-12')]"
      ],
      "metadata": {
        "id": "q8_B1RE89HU2",
        "colab": {
          "base_uri": "https://localhost:8080/"
        },
        "outputId": "ff55bf26-74fd-431d-a062-8188a661cb45"
      },
      "execution_count": null,
      "outputs": [
        {
          "output_type": "stream",
          "name": "stderr",
          "text": [
            "<ipython-input-4-03bcaa1c8268>:2: SettingWithCopyWarning: \n",
            "A value is trying to be set on a copy of a slice from a DataFrame.\n",
            "Try using .loc[row_indexer,col_indexer] = value instead\n",
            "\n",
            "See the caveats in the documentation: https://pandas.pydata.org/pandas-docs/stable/user_guide/indexing.html#returning-a-view-versus-a-copy\n",
            "  nvidia_df['Date'] = pd.to_datetime(nvidia_df['Date'], dayfirst=True)\n"
          ]
        }
      ]
    },
    {
      "cell_type": "code",
      "source": [
        "df_stock.sort_values(by=\"Date\", ascending=False)"
      ],
      "metadata": {
        "colab": {
          "base_uri": "https://localhost:8080/",
          "height": 808
        },
        "id": "XNpbaZdJ0n4x",
        "outputId": "91197d3f-6ea7-4958-e17a-71ea191e2843"
      },
      "execution_count": null,
      "outputs": [
        {
          "output_type": "execute_result",
          "data": {
            "text/plain": [
              "      Unnamed: 0        Date  Natural_Gas_Price  Natural_Gas_Vol.  \\\n",
              "518          518  31-12-2021              3.730           93100.0   \n",
              "764          764  31-12-2020              2.539          111110.0   \n",
              "1013        1013  31-12-2019              2.189          116890.0   \n",
              "64            64  31-10-2023              3.575          238330.0   \n",
              "315          315  31-10-2022              6.355          128750.0   \n",
              "...          ...         ...                ...               ...   \n",
              "1224        1224  01-03-2019              2.859          134660.0   \n",
              "1              1  01-02-2024              2.050          161340.0   \n",
              "252          252  01-02-2023              2.536           88090.0   \n",
              "498          498  01-02-2022              4.751          140790.0   \n",
              "745          745  01-02-2021              2.850          243660.0   \n",
              "\n",
              "      Crude_oil_Price  Crude_oil_Vol.  Copper_Price  Copper_Vol.  \\\n",
              "518             75.21        237120.0        4.4635      36980.0   \n",
              "764             48.52        181890.0        3.5190      42980.0   \n",
              "1013            61.06        494540.0        2.7970      42720.0   \n",
              "64              81.02        346010.0        3.6490      72260.0   \n",
              "315             86.53        285340.0        3.3575      15270.0   \n",
              "...               ...             ...           ...          ...   \n",
              "1224            55.80        684190.0        2.9320      75970.0   \n",
              "1               73.82        577940.0        3.8535          NaN   \n",
              "252             76.41        360860.0        4.1110      88150.0   \n",
              "498             88.20        376840.0        4.4315        180.0   \n",
              "745             53.55        416070.0        3.5455        100.0   \n",
              "\n",
              "     Bitcoin_Price  Bitcoin_Vol.  ... Berkshire_Price  Berkshire_Vol.  \\\n",
              "518      46,219.50       58180.0  ...        4,50,662          1450.0   \n",
              "764      28,949.40      136690.0  ...        3,47,815           270.0   \n",
              "1013      7,196.40      586600.0  ...        3,39,590           140.0   \n",
              "64       34,650.60       43400.0  ...        5,17,825          6610.0   \n",
              "315      20,496.30      327470.0  ...        4,45,050          3850.0   \n",
              "...            ...           ...  ...             ...             ...   \n",
              "1224      3,821.90     1740000.0  ...        3,04,860           210.0   \n",
              "1        43,081.40       47690.0  ...        5,81,600          9780.0   \n",
              "252      23,725.60      333180.0  ...        4,70,606          4420.0   \n",
              "498      38,709.70       55200.0  ...        4,71,184          1930.0   \n",
              "745      33,515.70      126320.0  ...        3,46,175           290.0   \n",
              "\n",
              "     Netflix_Price  Netflix_Vol. Amazon_Price Amazon_Vol.  Meta_Price  \\\n",
              "518         602.44     2000000.0       166.72  47830000.0      336.35   \n",
              "764         540.73     5390000.0       162.85  59140000.0      273.16   \n",
              "1013        323.57     3710000.0        92.39  50210000.0      205.25   \n",
              "64          411.69     3870000.0       133.09  48970000.0      301.27   \n",
              "315         291.88     7510000.0       102.44  99250000.0       93.16   \n",
              "...            ...           ...          ...         ...         ...   \n",
              "1224        357.32     5530000.0        83.59  99500000.0      162.28   \n",
              "1           567.51     3150000.0       159.28  66360000.0      394.78   \n",
              "252         361.99     7970000.0       105.15  76150000.0      153.12   \n",
              "498         457.13    22570000.0       151.19  59220000.0      319.00   \n",
              "745         539.04     3550000.0       167.14  83200000.0      262.01   \n",
              "\n",
              "        Meta_Vol.  Gold_Price  Gold_Vol.  \n",
              "518    12870000.0    1,828.60   106600.0  \n",
              "764    12900000.0    1,895.10   130630.0  \n",
              "1013    8960000.0    1,523.10   220850.0  \n",
              "64     18040000.0    1,994.30   214780.0  \n",
              "315   120760000.0    1,640.70   128410.0  \n",
              "...           ...         ...        ...  \n",
              "1224   11100000.0    1,299.20   343470.0  \n",
              "1      25140000.0    2,071.10   260920.0  \n",
              "252    47550000.0    1,927.80     2290.0  \n",
              "498    18020000.0    1,801.50   128880.0  \n",
              "745    22910000.0    1,863.90   242050.0  \n",
              "\n",
              "[1243 rows x 39 columns]"
            ],
            "text/html": [
              "\n",
              "  <div id=\"df-25a440c8-c12d-4563-9689-500b44df2791\" class=\"colab-df-container\">\n",
              "    <div>\n",
              "<style scoped>\n",
              "    .dataframe tbody tr th:only-of-type {\n",
              "        vertical-align: middle;\n",
              "    }\n",
              "\n",
              "    .dataframe tbody tr th {\n",
              "        vertical-align: top;\n",
              "    }\n",
              "\n",
              "    .dataframe thead th {\n",
              "        text-align: right;\n",
              "    }\n",
              "</style>\n",
              "<table border=\"1\" class=\"dataframe\">\n",
              "  <thead>\n",
              "    <tr style=\"text-align: right;\">\n",
              "      <th></th>\n",
              "      <th>Unnamed: 0</th>\n",
              "      <th>Date</th>\n",
              "      <th>Natural_Gas_Price</th>\n",
              "      <th>Natural_Gas_Vol.</th>\n",
              "      <th>Crude_oil_Price</th>\n",
              "      <th>Crude_oil_Vol.</th>\n",
              "      <th>Copper_Price</th>\n",
              "      <th>Copper_Vol.</th>\n",
              "      <th>Bitcoin_Price</th>\n",
              "      <th>Bitcoin_Vol.</th>\n",
              "      <th>...</th>\n",
              "      <th>Berkshire_Price</th>\n",
              "      <th>Berkshire_Vol.</th>\n",
              "      <th>Netflix_Price</th>\n",
              "      <th>Netflix_Vol.</th>\n",
              "      <th>Amazon_Price</th>\n",
              "      <th>Amazon_Vol.</th>\n",
              "      <th>Meta_Price</th>\n",
              "      <th>Meta_Vol.</th>\n",
              "      <th>Gold_Price</th>\n",
              "      <th>Gold_Vol.</th>\n",
              "    </tr>\n",
              "  </thead>\n",
              "  <tbody>\n",
              "    <tr>\n",
              "      <th>518</th>\n",
              "      <td>518</td>\n",
              "      <td>31-12-2021</td>\n",
              "      <td>3.730</td>\n",
              "      <td>93100.0</td>\n",
              "      <td>75.21</td>\n",
              "      <td>237120.0</td>\n",
              "      <td>4.4635</td>\n",
              "      <td>36980.0</td>\n",
              "      <td>46,219.50</td>\n",
              "      <td>58180.0</td>\n",
              "      <td>...</td>\n",
              "      <td>4,50,662</td>\n",
              "      <td>1450.0</td>\n",
              "      <td>602.44</td>\n",
              "      <td>2000000.0</td>\n",
              "      <td>166.72</td>\n",
              "      <td>47830000.0</td>\n",
              "      <td>336.35</td>\n",
              "      <td>12870000.0</td>\n",
              "      <td>1,828.60</td>\n",
              "      <td>106600.0</td>\n",
              "    </tr>\n",
              "    <tr>\n",
              "      <th>764</th>\n",
              "      <td>764</td>\n",
              "      <td>31-12-2020</td>\n",
              "      <td>2.539</td>\n",
              "      <td>111110.0</td>\n",
              "      <td>48.52</td>\n",
              "      <td>181890.0</td>\n",
              "      <td>3.5190</td>\n",
              "      <td>42980.0</td>\n",
              "      <td>28,949.40</td>\n",
              "      <td>136690.0</td>\n",
              "      <td>...</td>\n",
              "      <td>3,47,815</td>\n",
              "      <td>270.0</td>\n",
              "      <td>540.73</td>\n",
              "      <td>5390000.0</td>\n",
              "      <td>162.85</td>\n",
              "      <td>59140000.0</td>\n",
              "      <td>273.16</td>\n",
              "      <td>12900000.0</td>\n",
              "      <td>1,895.10</td>\n",
              "      <td>130630.0</td>\n",
              "    </tr>\n",
              "    <tr>\n",
              "      <th>1013</th>\n",
              "      <td>1013</td>\n",
              "      <td>31-12-2019</td>\n",
              "      <td>2.189</td>\n",
              "      <td>116890.0</td>\n",
              "      <td>61.06</td>\n",
              "      <td>494540.0</td>\n",
              "      <td>2.7970</td>\n",
              "      <td>42720.0</td>\n",
              "      <td>7,196.40</td>\n",
              "      <td>586600.0</td>\n",
              "      <td>...</td>\n",
              "      <td>3,39,590</td>\n",
              "      <td>140.0</td>\n",
              "      <td>323.57</td>\n",
              "      <td>3710000.0</td>\n",
              "      <td>92.39</td>\n",
              "      <td>50210000.0</td>\n",
              "      <td>205.25</td>\n",
              "      <td>8960000.0</td>\n",
              "      <td>1,523.10</td>\n",
              "      <td>220850.0</td>\n",
              "    </tr>\n",
              "    <tr>\n",
              "      <th>64</th>\n",
              "      <td>64</td>\n",
              "      <td>31-10-2023</td>\n",
              "      <td>3.575</td>\n",
              "      <td>238330.0</td>\n",
              "      <td>81.02</td>\n",
              "      <td>346010.0</td>\n",
              "      <td>3.6490</td>\n",
              "      <td>72260.0</td>\n",
              "      <td>34,650.60</td>\n",
              "      <td>43400.0</td>\n",
              "      <td>...</td>\n",
              "      <td>5,17,825</td>\n",
              "      <td>6610.0</td>\n",
              "      <td>411.69</td>\n",
              "      <td>3870000.0</td>\n",
              "      <td>133.09</td>\n",
              "      <td>48970000.0</td>\n",
              "      <td>301.27</td>\n",
              "      <td>18040000.0</td>\n",
              "      <td>1,994.30</td>\n",
              "      <td>214780.0</td>\n",
              "    </tr>\n",
              "    <tr>\n",
              "      <th>315</th>\n",
              "      <td>315</td>\n",
              "      <td>31-10-2022</td>\n",
              "      <td>6.355</td>\n",
              "      <td>128750.0</td>\n",
              "      <td>86.53</td>\n",
              "      <td>285340.0</td>\n",
              "      <td>3.3575</td>\n",
              "      <td>15270.0</td>\n",
              "      <td>20,496.30</td>\n",
              "      <td>327470.0</td>\n",
              "      <td>...</td>\n",
              "      <td>4,45,050</td>\n",
              "      <td>3850.0</td>\n",
              "      <td>291.88</td>\n",
              "      <td>7510000.0</td>\n",
              "      <td>102.44</td>\n",
              "      <td>99250000.0</td>\n",
              "      <td>93.16</td>\n",
              "      <td>120760000.0</td>\n",
              "      <td>1,640.70</td>\n",
              "      <td>128410.0</td>\n",
              "    </tr>\n",
              "    <tr>\n",
              "      <th>...</th>\n",
              "      <td>...</td>\n",
              "      <td>...</td>\n",
              "      <td>...</td>\n",
              "      <td>...</td>\n",
              "      <td>...</td>\n",
              "      <td>...</td>\n",
              "      <td>...</td>\n",
              "      <td>...</td>\n",
              "      <td>...</td>\n",
              "      <td>...</td>\n",
              "      <td>...</td>\n",
              "      <td>...</td>\n",
              "      <td>...</td>\n",
              "      <td>...</td>\n",
              "      <td>...</td>\n",
              "      <td>...</td>\n",
              "      <td>...</td>\n",
              "      <td>...</td>\n",
              "      <td>...</td>\n",
              "      <td>...</td>\n",
              "      <td>...</td>\n",
              "    </tr>\n",
              "    <tr>\n",
              "      <th>1224</th>\n",
              "      <td>1224</td>\n",
              "      <td>01-03-2019</td>\n",
              "      <td>2.859</td>\n",
              "      <td>134660.0</td>\n",
              "      <td>55.80</td>\n",
              "      <td>684190.0</td>\n",
              "      <td>2.9320</td>\n",
              "      <td>75970.0</td>\n",
              "      <td>3,821.90</td>\n",
              "      <td>1740000.0</td>\n",
              "      <td>...</td>\n",
              "      <td>3,04,860</td>\n",
              "      <td>210.0</td>\n",
              "      <td>357.32</td>\n",
              "      <td>5530000.0</td>\n",
              "      <td>83.59</td>\n",
              "      <td>99500000.0</td>\n",
              "      <td>162.28</td>\n",
              "      <td>11100000.0</td>\n",
              "      <td>1,299.20</td>\n",
              "      <td>343470.0</td>\n",
              "    </tr>\n",
              "    <tr>\n",
              "      <th>1</th>\n",
              "      <td>1</td>\n",
              "      <td>01-02-2024</td>\n",
              "      <td>2.050</td>\n",
              "      <td>161340.0</td>\n",
              "      <td>73.82</td>\n",
              "      <td>577940.0</td>\n",
              "      <td>3.8535</td>\n",
              "      <td>NaN</td>\n",
              "      <td>43,081.40</td>\n",
              "      <td>47690.0</td>\n",
              "      <td>...</td>\n",
              "      <td>5,81,600</td>\n",
              "      <td>9780.0</td>\n",
              "      <td>567.51</td>\n",
              "      <td>3150000.0</td>\n",
              "      <td>159.28</td>\n",
              "      <td>66360000.0</td>\n",
              "      <td>394.78</td>\n",
              "      <td>25140000.0</td>\n",
              "      <td>2,071.10</td>\n",
              "      <td>260920.0</td>\n",
              "    </tr>\n",
              "    <tr>\n",
              "      <th>252</th>\n",
              "      <td>252</td>\n",
              "      <td>01-02-2023</td>\n",
              "      <td>2.536</td>\n",
              "      <td>88090.0</td>\n",
              "      <td>76.41</td>\n",
              "      <td>360860.0</td>\n",
              "      <td>4.1110</td>\n",
              "      <td>88150.0</td>\n",
              "      <td>23,725.60</td>\n",
              "      <td>333180.0</td>\n",
              "      <td>...</td>\n",
              "      <td>4,70,606</td>\n",
              "      <td>4420.0</td>\n",
              "      <td>361.99</td>\n",
              "      <td>7970000.0</td>\n",
              "      <td>105.15</td>\n",
              "      <td>76150000.0</td>\n",
              "      <td>153.12</td>\n",
              "      <td>47550000.0</td>\n",
              "      <td>1,927.80</td>\n",
              "      <td>2290.0</td>\n",
              "    </tr>\n",
              "    <tr>\n",
              "      <th>498</th>\n",
              "      <td>498</td>\n",
              "      <td>01-02-2022</td>\n",
              "      <td>4.751</td>\n",
              "      <td>140790.0</td>\n",
              "      <td>88.20</td>\n",
              "      <td>376840.0</td>\n",
              "      <td>4.4315</td>\n",
              "      <td>180.0</td>\n",
              "      <td>38,709.70</td>\n",
              "      <td>55200.0</td>\n",
              "      <td>...</td>\n",
              "      <td>4,71,184</td>\n",
              "      <td>1930.0</td>\n",
              "      <td>457.13</td>\n",
              "      <td>22570000.0</td>\n",
              "      <td>151.19</td>\n",
              "      <td>59220000.0</td>\n",
              "      <td>319.00</td>\n",
              "      <td>18020000.0</td>\n",
              "      <td>1,801.50</td>\n",
              "      <td>128880.0</td>\n",
              "    </tr>\n",
              "    <tr>\n",
              "      <th>745</th>\n",
              "      <td>745</td>\n",
              "      <td>01-02-2021</td>\n",
              "      <td>2.850</td>\n",
              "      <td>243660.0</td>\n",
              "      <td>53.55</td>\n",
              "      <td>416070.0</td>\n",
              "      <td>3.5455</td>\n",
              "      <td>100.0</td>\n",
              "      <td>33,515.70</td>\n",
              "      <td>126320.0</td>\n",
              "      <td>...</td>\n",
              "      <td>3,46,175</td>\n",
              "      <td>290.0</td>\n",
              "      <td>539.04</td>\n",
              "      <td>3550000.0</td>\n",
              "      <td>167.14</td>\n",
              "      <td>83200000.0</td>\n",
              "      <td>262.01</td>\n",
              "      <td>22910000.0</td>\n",
              "      <td>1,863.90</td>\n",
              "      <td>242050.0</td>\n",
              "    </tr>\n",
              "  </tbody>\n",
              "</table>\n",
              "<p>1243 rows × 39 columns</p>\n",
              "</div>\n",
              "    <div class=\"colab-df-buttons\">\n",
              "\n",
              "  <div class=\"colab-df-container\">\n",
              "    <button class=\"colab-df-convert\" onclick=\"convertToInteractive('df-25a440c8-c12d-4563-9689-500b44df2791')\"\n",
              "            title=\"Convert this dataframe to an interactive table.\"\n",
              "            style=\"display:none;\">\n",
              "\n",
              "  <svg xmlns=\"http://www.w3.org/2000/svg\" height=\"24px\" viewBox=\"0 -960 960 960\">\n",
              "    <path d=\"M120-120v-720h720v720H120Zm60-500h600v-160H180v160Zm220 220h160v-160H400v160Zm0 220h160v-160H400v160ZM180-400h160v-160H180v160Zm440 0h160v-160H620v160ZM180-180h160v-160H180v160Zm440 0h160v-160H620v160Z\"/>\n",
              "  </svg>\n",
              "    </button>\n",
              "\n",
              "  <style>\n",
              "    .colab-df-container {\n",
              "      display:flex;\n",
              "      gap: 12px;\n",
              "    }\n",
              "\n",
              "    .colab-df-convert {\n",
              "      background-color: #E8F0FE;\n",
              "      border: none;\n",
              "      border-radius: 50%;\n",
              "      cursor: pointer;\n",
              "      display: none;\n",
              "      fill: #1967D2;\n",
              "      height: 32px;\n",
              "      padding: 0 0 0 0;\n",
              "      width: 32px;\n",
              "    }\n",
              "\n",
              "    .colab-df-convert:hover {\n",
              "      background-color: #E2EBFA;\n",
              "      box-shadow: 0px 1px 2px rgba(60, 64, 67, 0.3), 0px 1px 3px 1px rgba(60, 64, 67, 0.15);\n",
              "      fill: #174EA6;\n",
              "    }\n",
              "\n",
              "    .colab-df-buttons div {\n",
              "      margin-bottom: 4px;\n",
              "    }\n",
              "\n",
              "    [theme=dark] .colab-df-convert {\n",
              "      background-color: #3B4455;\n",
              "      fill: #D2E3FC;\n",
              "    }\n",
              "\n",
              "    [theme=dark] .colab-df-convert:hover {\n",
              "      background-color: #434B5C;\n",
              "      box-shadow: 0px 1px 3px 1px rgba(0, 0, 0, 0.15);\n",
              "      filter: drop-shadow(0px 1px 2px rgba(0, 0, 0, 0.3));\n",
              "      fill: #FFFFFF;\n",
              "    }\n",
              "  </style>\n",
              "\n",
              "    <script>\n",
              "      const buttonEl =\n",
              "        document.querySelector('#df-25a440c8-c12d-4563-9689-500b44df2791 button.colab-df-convert');\n",
              "      buttonEl.style.display =\n",
              "        google.colab.kernel.accessAllowed ? 'block' : 'none';\n",
              "\n",
              "      async function convertToInteractive(key) {\n",
              "        const element = document.querySelector('#df-25a440c8-c12d-4563-9689-500b44df2791');\n",
              "        const dataTable =\n",
              "          await google.colab.kernel.invokeFunction('convertToInteractive',\n",
              "                                                    [key], {});\n",
              "        if (!dataTable) return;\n",
              "\n",
              "        const docLinkHtml = 'Like what you see? Visit the ' +\n",
              "          '<a target=\"_blank\" href=https://colab.research.google.com/notebooks/data_table.ipynb>data table notebook</a>'\n",
              "          + ' to learn more about interactive tables.';\n",
              "        element.innerHTML = '';\n",
              "        dataTable['output_type'] = 'display_data';\n",
              "        await google.colab.output.renderOutput(dataTable, element);\n",
              "        const docLink = document.createElement('div');\n",
              "        docLink.innerHTML = docLinkHtml;\n",
              "        element.appendChild(docLink);\n",
              "      }\n",
              "    </script>\n",
              "  </div>\n",
              "\n",
              "\n",
              "<div id=\"df-4d434352-c245-4e9e-8441-726422f6b768\">\n",
              "  <button class=\"colab-df-quickchart\" onclick=\"quickchart('df-4d434352-c245-4e9e-8441-726422f6b768')\"\n",
              "            title=\"Suggest charts\"\n",
              "            style=\"display:none;\">\n",
              "\n",
              "<svg xmlns=\"http://www.w3.org/2000/svg\" height=\"24px\"viewBox=\"0 0 24 24\"\n",
              "     width=\"24px\">\n",
              "    <g>\n",
              "        <path d=\"M19 3H5c-1.1 0-2 .9-2 2v14c0 1.1.9 2 2 2h14c1.1 0 2-.9 2-2V5c0-1.1-.9-2-2-2zM9 17H7v-7h2v7zm4 0h-2V7h2v10zm4 0h-2v-4h2v4z\"/>\n",
              "    </g>\n",
              "</svg>\n",
              "  </button>\n",
              "\n",
              "<style>\n",
              "  .colab-df-quickchart {\n",
              "      --bg-color: #E8F0FE;\n",
              "      --fill-color: #1967D2;\n",
              "      --hover-bg-color: #E2EBFA;\n",
              "      --hover-fill-color: #174EA6;\n",
              "      --disabled-fill-color: #AAA;\n",
              "      --disabled-bg-color: #DDD;\n",
              "  }\n",
              "\n",
              "  [theme=dark] .colab-df-quickchart {\n",
              "      --bg-color: #3B4455;\n",
              "      --fill-color: #D2E3FC;\n",
              "      --hover-bg-color: #434B5C;\n",
              "      --hover-fill-color: #FFFFFF;\n",
              "      --disabled-bg-color: #3B4455;\n",
              "      --disabled-fill-color: #666;\n",
              "  }\n",
              "\n",
              "  .colab-df-quickchart {\n",
              "    background-color: var(--bg-color);\n",
              "    border: none;\n",
              "    border-radius: 50%;\n",
              "    cursor: pointer;\n",
              "    display: none;\n",
              "    fill: var(--fill-color);\n",
              "    height: 32px;\n",
              "    padding: 0;\n",
              "    width: 32px;\n",
              "  }\n",
              "\n",
              "  .colab-df-quickchart:hover {\n",
              "    background-color: var(--hover-bg-color);\n",
              "    box-shadow: 0 1px 2px rgba(60, 64, 67, 0.3), 0 1px 3px 1px rgba(60, 64, 67, 0.15);\n",
              "    fill: var(--button-hover-fill-color);\n",
              "  }\n",
              "\n",
              "  .colab-df-quickchart-complete:disabled,\n",
              "  .colab-df-quickchart-complete:disabled:hover {\n",
              "    background-color: var(--disabled-bg-color);\n",
              "    fill: var(--disabled-fill-color);\n",
              "    box-shadow: none;\n",
              "  }\n",
              "\n",
              "  .colab-df-spinner {\n",
              "    border: 2px solid var(--fill-color);\n",
              "    border-color: transparent;\n",
              "    border-bottom-color: var(--fill-color);\n",
              "    animation:\n",
              "      spin 1s steps(1) infinite;\n",
              "  }\n",
              "\n",
              "  @keyframes spin {\n",
              "    0% {\n",
              "      border-color: transparent;\n",
              "      border-bottom-color: var(--fill-color);\n",
              "      border-left-color: var(--fill-color);\n",
              "    }\n",
              "    20% {\n",
              "      border-color: transparent;\n",
              "      border-left-color: var(--fill-color);\n",
              "      border-top-color: var(--fill-color);\n",
              "    }\n",
              "    30% {\n",
              "      border-color: transparent;\n",
              "      border-left-color: var(--fill-color);\n",
              "      border-top-color: var(--fill-color);\n",
              "      border-right-color: var(--fill-color);\n",
              "    }\n",
              "    40% {\n",
              "      border-color: transparent;\n",
              "      border-right-color: var(--fill-color);\n",
              "      border-top-color: var(--fill-color);\n",
              "    }\n",
              "    60% {\n",
              "      border-color: transparent;\n",
              "      border-right-color: var(--fill-color);\n",
              "    }\n",
              "    80% {\n",
              "      border-color: transparent;\n",
              "      border-right-color: var(--fill-color);\n",
              "      border-bottom-color: var(--fill-color);\n",
              "    }\n",
              "    90% {\n",
              "      border-color: transparent;\n",
              "      border-bottom-color: var(--fill-color);\n",
              "    }\n",
              "  }\n",
              "</style>\n",
              "\n",
              "  <script>\n",
              "    async function quickchart(key) {\n",
              "      const quickchartButtonEl =\n",
              "        document.querySelector('#' + key + ' button');\n",
              "      quickchartButtonEl.disabled = true;  // To prevent multiple clicks.\n",
              "      quickchartButtonEl.classList.add('colab-df-spinner');\n",
              "      try {\n",
              "        const charts = await google.colab.kernel.invokeFunction(\n",
              "            'suggestCharts', [key], {});\n",
              "      } catch (error) {\n",
              "        console.error('Error during call to suggestCharts:', error);\n",
              "      }\n",
              "      quickchartButtonEl.classList.remove('colab-df-spinner');\n",
              "      quickchartButtonEl.classList.add('colab-df-quickchart-complete');\n",
              "    }\n",
              "    (() => {\n",
              "      let quickchartButtonEl =\n",
              "        document.querySelector('#df-4d434352-c245-4e9e-8441-726422f6b768 button');\n",
              "      quickchartButtonEl.style.display =\n",
              "        google.colab.kernel.accessAllowed ? 'block' : 'none';\n",
              "    })();\n",
              "  </script>\n",
              "</div>\n",
              "    </div>\n",
              "  </div>\n"
            ],
            "application/vnd.google.colaboratory.intrinsic+json": {
              "type": "dataframe"
            }
          },
          "metadata": {},
          "execution_count": 5
        }
      ]
    },
    {
      "cell_type": "code",
      "source": [
        "nvidia_df.head()"
      ],
      "metadata": {
        "colab": {
          "base_uri": "https://localhost:8080/",
          "height": 206
        },
        "id": "38HZjw2Frens",
        "outputId": "910796a3-8e91-4463-9669-7808c088d548"
      },
      "execution_count": null,
      "outputs": [
        {
          "output_type": "execute_result",
          "data": {
            "text/plain": [
              "          Date  Nvidia_Price  Nvidia_Vol.\n",
              "204 2023-04-12        264.95   44350000.0\n",
              "205 2023-04-11        271.69   30230000.0\n",
              "206 2023-04-10        275.79   37980000.0\n",
              "207 2023-04-06        270.37   39770000.0\n",
              "208 2023-04-05        268.81   50330000.0"
            ],
            "text/html": [
              "\n",
              "  <div id=\"df-12545af8-eb6f-43d2-89b7-9c777e1611ce\" class=\"colab-df-container\">\n",
              "    <div>\n",
              "<style scoped>\n",
              "    .dataframe tbody tr th:only-of-type {\n",
              "        vertical-align: middle;\n",
              "    }\n",
              "\n",
              "    .dataframe tbody tr th {\n",
              "        vertical-align: top;\n",
              "    }\n",
              "\n",
              "    .dataframe thead th {\n",
              "        text-align: right;\n",
              "    }\n",
              "</style>\n",
              "<table border=\"1\" class=\"dataframe\">\n",
              "  <thead>\n",
              "    <tr style=\"text-align: right;\">\n",
              "      <th></th>\n",
              "      <th>Date</th>\n",
              "      <th>Nvidia_Price</th>\n",
              "      <th>Nvidia_Vol.</th>\n",
              "    </tr>\n",
              "  </thead>\n",
              "  <tbody>\n",
              "    <tr>\n",
              "      <th>204</th>\n",
              "      <td>2023-04-12</td>\n",
              "      <td>264.95</td>\n",
              "      <td>44350000.0</td>\n",
              "    </tr>\n",
              "    <tr>\n",
              "      <th>205</th>\n",
              "      <td>2023-04-11</td>\n",
              "      <td>271.69</td>\n",
              "      <td>30230000.0</td>\n",
              "    </tr>\n",
              "    <tr>\n",
              "      <th>206</th>\n",
              "      <td>2023-04-10</td>\n",
              "      <td>275.79</td>\n",
              "      <td>37980000.0</td>\n",
              "    </tr>\n",
              "    <tr>\n",
              "      <th>207</th>\n",
              "      <td>2023-04-06</td>\n",
              "      <td>270.37</td>\n",
              "      <td>39770000.0</td>\n",
              "    </tr>\n",
              "    <tr>\n",
              "      <th>208</th>\n",
              "      <td>2023-04-05</td>\n",
              "      <td>268.81</td>\n",
              "      <td>50330000.0</td>\n",
              "    </tr>\n",
              "  </tbody>\n",
              "</table>\n",
              "</div>\n",
              "    <div class=\"colab-df-buttons\">\n",
              "\n",
              "  <div class=\"colab-df-container\">\n",
              "    <button class=\"colab-df-convert\" onclick=\"convertToInteractive('df-12545af8-eb6f-43d2-89b7-9c777e1611ce')\"\n",
              "            title=\"Convert this dataframe to an interactive table.\"\n",
              "            style=\"display:none;\">\n",
              "\n",
              "  <svg xmlns=\"http://www.w3.org/2000/svg\" height=\"24px\" viewBox=\"0 -960 960 960\">\n",
              "    <path d=\"M120-120v-720h720v720H120Zm60-500h600v-160H180v160Zm220 220h160v-160H400v160Zm0 220h160v-160H400v160ZM180-400h160v-160H180v160Zm440 0h160v-160H620v160ZM180-180h160v-160H180v160Zm440 0h160v-160H620v160Z\"/>\n",
              "  </svg>\n",
              "    </button>\n",
              "\n",
              "  <style>\n",
              "    .colab-df-container {\n",
              "      display:flex;\n",
              "      gap: 12px;\n",
              "    }\n",
              "\n",
              "    .colab-df-convert {\n",
              "      background-color: #E8F0FE;\n",
              "      border: none;\n",
              "      border-radius: 50%;\n",
              "      cursor: pointer;\n",
              "      display: none;\n",
              "      fill: #1967D2;\n",
              "      height: 32px;\n",
              "      padding: 0 0 0 0;\n",
              "      width: 32px;\n",
              "    }\n",
              "\n",
              "    .colab-df-convert:hover {\n",
              "      background-color: #E2EBFA;\n",
              "      box-shadow: 0px 1px 2px rgba(60, 64, 67, 0.3), 0px 1px 3px 1px rgba(60, 64, 67, 0.15);\n",
              "      fill: #174EA6;\n",
              "    }\n",
              "\n",
              "    .colab-df-buttons div {\n",
              "      margin-bottom: 4px;\n",
              "    }\n",
              "\n",
              "    [theme=dark] .colab-df-convert {\n",
              "      background-color: #3B4455;\n",
              "      fill: #D2E3FC;\n",
              "    }\n",
              "\n",
              "    [theme=dark] .colab-df-convert:hover {\n",
              "      background-color: #434B5C;\n",
              "      box-shadow: 0px 1px 3px 1px rgba(0, 0, 0, 0.15);\n",
              "      filter: drop-shadow(0px 1px 2px rgba(0, 0, 0, 0.3));\n",
              "      fill: #FFFFFF;\n",
              "    }\n",
              "  </style>\n",
              "\n",
              "    <script>\n",
              "      const buttonEl =\n",
              "        document.querySelector('#df-12545af8-eb6f-43d2-89b7-9c777e1611ce button.colab-df-convert');\n",
              "      buttonEl.style.display =\n",
              "        google.colab.kernel.accessAllowed ? 'block' : 'none';\n",
              "\n",
              "      async function convertToInteractive(key) {\n",
              "        const element = document.querySelector('#df-12545af8-eb6f-43d2-89b7-9c777e1611ce');\n",
              "        const dataTable =\n",
              "          await google.colab.kernel.invokeFunction('convertToInteractive',\n",
              "                                                    [key], {});\n",
              "        if (!dataTable) return;\n",
              "\n",
              "        const docLinkHtml = 'Like what you see? Visit the ' +\n",
              "          '<a target=\"_blank\" href=https://colab.research.google.com/notebooks/data_table.ipynb>data table notebook</a>'\n",
              "          + ' to learn more about interactive tables.';\n",
              "        element.innerHTML = '';\n",
              "        dataTable['output_type'] = 'display_data';\n",
              "        await google.colab.output.renderOutput(dataTable, element);\n",
              "        const docLink = document.createElement('div');\n",
              "        docLink.innerHTML = docLinkHtml;\n",
              "        element.appendChild(docLink);\n",
              "      }\n",
              "    </script>\n",
              "  </div>\n",
              "\n",
              "\n",
              "<div id=\"df-11f4c589-ee79-404e-805a-168faaf77937\">\n",
              "  <button class=\"colab-df-quickchart\" onclick=\"quickchart('df-11f4c589-ee79-404e-805a-168faaf77937')\"\n",
              "            title=\"Suggest charts\"\n",
              "            style=\"display:none;\">\n",
              "\n",
              "<svg xmlns=\"http://www.w3.org/2000/svg\" height=\"24px\"viewBox=\"0 0 24 24\"\n",
              "     width=\"24px\">\n",
              "    <g>\n",
              "        <path d=\"M19 3H5c-1.1 0-2 .9-2 2v14c0 1.1.9 2 2 2h14c1.1 0 2-.9 2-2V5c0-1.1-.9-2-2-2zM9 17H7v-7h2v7zm4 0h-2V7h2v10zm4 0h-2v-4h2v4z\"/>\n",
              "    </g>\n",
              "</svg>\n",
              "  </button>\n",
              "\n",
              "<style>\n",
              "  .colab-df-quickchart {\n",
              "      --bg-color: #E8F0FE;\n",
              "      --fill-color: #1967D2;\n",
              "      --hover-bg-color: #E2EBFA;\n",
              "      --hover-fill-color: #174EA6;\n",
              "      --disabled-fill-color: #AAA;\n",
              "      --disabled-bg-color: #DDD;\n",
              "  }\n",
              "\n",
              "  [theme=dark] .colab-df-quickchart {\n",
              "      --bg-color: #3B4455;\n",
              "      --fill-color: #D2E3FC;\n",
              "      --hover-bg-color: #434B5C;\n",
              "      --hover-fill-color: #FFFFFF;\n",
              "      --disabled-bg-color: #3B4455;\n",
              "      --disabled-fill-color: #666;\n",
              "  }\n",
              "\n",
              "  .colab-df-quickchart {\n",
              "    background-color: var(--bg-color);\n",
              "    border: none;\n",
              "    border-radius: 50%;\n",
              "    cursor: pointer;\n",
              "    display: none;\n",
              "    fill: var(--fill-color);\n",
              "    height: 32px;\n",
              "    padding: 0;\n",
              "    width: 32px;\n",
              "  }\n",
              "\n",
              "  .colab-df-quickchart:hover {\n",
              "    background-color: var(--hover-bg-color);\n",
              "    box-shadow: 0 1px 2px rgba(60, 64, 67, 0.3), 0 1px 3px 1px rgba(60, 64, 67, 0.15);\n",
              "    fill: var(--button-hover-fill-color);\n",
              "  }\n",
              "\n",
              "  .colab-df-quickchart-complete:disabled,\n",
              "  .colab-df-quickchart-complete:disabled:hover {\n",
              "    background-color: var(--disabled-bg-color);\n",
              "    fill: var(--disabled-fill-color);\n",
              "    box-shadow: none;\n",
              "  }\n",
              "\n",
              "  .colab-df-spinner {\n",
              "    border: 2px solid var(--fill-color);\n",
              "    border-color: transparent;\n",
              "    border-bottom-color: var(--fill-color);\n",
              "    animation:\n",
              "      spin 1s steps(1) infinite;\n",
              "  }\n",
              "\n",
              "  @keyframes spin {\n",
              "    0% {\n",
              "      border-color: transparent;\n",
              "      border-bottom-color: var(--fill-color);\n",
              "      border-left-color: var(--fill-color);\n",
              "    }\n",
              "    20% {\n",
              "      border-color: transparent;\n",
              "      border-left-color: var(--fill-color);\n",
              "      border-top-color: var(--fill-color);\n",
              "    }\n",
              "    30% {\n",
              "      border-color: transparent;\n",
              "      border-left-color: var(--fill-color);\n",
              "      border-top-color: var(--fill-color);\n",
              "      border-right-color: var(--fill-color);\n",
              "    }\n",
              "    40% {\n",
              "      border-color: transparent;\n",
              "      border-right-color: var(--fill-color);\n",
              "      border-top-color: var(--fill-color);\n",
              "    }\n",
              "    60% {\n",
              "      border-color: transparent;\n",
              "      border-right-color: var(--fill-color);\n",
              "    }\n",
              "    80% {\n",
              "      border-color: transparent;\n",
              "      border-right-color: var(--fill-color);\n",
              "      border-bottom-color: var(--fill-color);\n",
              "    }\n",
              "    90% {\n",
              "      border-color: transparent;\n",
              "      border-bottom-color: var(--fill-color);\n",
              "    }\n",
              "  }\n",
              "</style>\n",
              "\n",
              "  <script>\n",
              "    async function quickchart(key) {\n",
              "      const quickchartButtonEl =\n",
              "        document.querySelector('#' + key + ' button');\n",
              "      quickchartButtonEl.disabled = true;  // To prevent multiple clicks.\n",
              "      quickchartButtonEl.classList.add('colab-df-spinner');\n",
              "      try {\n",
              "        const charts = await google.colab.kernel.invokeFunction(\n",
              "            'suggestCharts', [key], {});\n",
              "      } catch (error) {\n",
              "        console.error('Error during call to suggestCharts:', error);\n",
              "      }\n",
              "      quickchartButtonEl.classList.remove('colab-df-spinner');\n",
              "      quickchartButtonEl.classList.add('colab-df-quickchart-complete');\n",
              "    }\n",
              "    (() => {\n",
              "      let quickchartButtonEl =\n",
              "        document.querySelector('#df-11f4c589-ee79-404e-805a-168faaf77937 button');\n",
              "      quickchartButtonEl.style.display =\n",
              "        google.colab.kernel.accessAllowed ? 'block' : 'none';\n",
              "    })();\n",
              "  </script>\n",
              "</div>\n",
              "    </div>\n",
              "  </div>\n"
            ],
            "application/vnd.google.colaboratory.intrinsic+json": {
              "type": "dataframe",
              "variable_name": "nvidia_df",
              "summary": "{\n  \"name\": \"nvidia_df\",\n  \"rows\": 88,\n  \"fields\": [\n    {\n      \"column\": \"Date\",\n      \"properties\": {\n        \"dtype\": \"date\",\n        \"min\": \"2022-12-05 00:00:00\",\n        \"max\": \"2023-04-12 00:00:00\",\n        \"num_unique_values\": 88,\n        \"samples\": [\n          \"2022-12-20 00:00:00\",\n          \"2023-04-12 00:00:00\",\n          \"2023-03-06 00:00:00\"\n        ],\n        \"semantic_type\": \"\",\n        \"description\": \"\"\n      }\n    },\n    {\n      \"column\": \"Nvidia_Price\",\n      \"properties\": {\n        \"dtype\": \"number\",\n        \"std\": 42.72091402939305,\n        \"min\": 140.36,\n        \"max\": 279.65,\n        \"num_unique_values\": 88,\n        \"samples\": [\n          160.85,\n          264.95,\n          235.54\n        ],\n        \"semantic_type\": \"\",\n        \"description\": \"\"\n      }\n    },\n    {\n      \"column\": \"Nvidia_Vol.\",\n      \"properties\": {\n        \"dtype\": \"number\",\n        \"std\": 12109670.073409673,\n        \"min\": 30230000.0,\n        \"max\": 111800000.0,\n        \"num_unique_values\": 87,\n        \"samples\": [\n          40220000.0,\n          44350000.0,\n          43740000.0\n        ],\n        \"semantic_type\": \"\",\n        \"description\": \"\"\n      }\n    }\n  ]\n}"
            }
          },
          "metadata": {},
          "execution_count": 6
        }
      ]
    },
    {
      "cell_type": "code",
      "source": [
        "nvidia_df.tail()"
      ],
      "metadata": {
        "colab": {
          "base_uri": "https://localhost:8080/",
          "height": 206
        },
        "id": "Ev7rtgrMrhmU",
        "outputId": "1b7a21b2-a91e-4d8a-d426-113d77ea2a0e"
      },
      "execution_count": null,
      "outputs": [
        {
          "output_type": "execute_result",
          "data": {
            "text/plain": [
              "          Date  Nvidia_Price  Nvidia_Vol.\n",
              "287 2022-12-09        170.01   46530000.0\n",
              "288 2022-12-08        171.69   51310000.0\n",
              "289 2022-12-07        161.20   37160000.0\n",
              "290 2022-12-06        159.87   35190000.0\n",
              "291 2022-12-05        166.10   35010000.0"
            ],
            "text/html": [
              "\n",
              "  <div id=\"df-c067d3c3-3c54-4a50-b5ec-0f2b4d47f8a1\" class=\"colab-df-container\">\n",
              "    <div>\n",
              "<style scoped>\n",
              "    .dataframe tbody tr th:only-of-type {\n",
              "        vertical-align: middle;\n",
              "    }\n",
              "\n",
              "    .dataframe tbody tr th {\n",
              "        vertical-align: top;\n",
              "    }\n",
              "\n",
              "    .dataframe thead th {\n",
              "        text-align: right;\n",
              "    }\n",
              "</style>\n",
              "<table border=\"1\" class=\"dataframe\">\n",
              "  <thead>\n",
              "    <tr style=\"text-align: right;\">\n",
              "      <th></th>\n",
              "      <th>Date</th>\n",
              "      <th>Nvidia_Price</th>\n",
              "      <th>Nvidia_Vol.</th>\n",
              "    </tr>\n",
              "  </thead>\n",
              "  <tbody>\n",
              "    <tr>\n",
              "      <th>287</th>\n",
              "      <td>2022-12-09</td>\n",
              "      <td>170.01</td>\n",
              "      <td>46530000.0</td>\n",
              "    </tr>\n",
              "    <tr>\n",
              "      <th>288</th>\n",
              "      <td>2022-12-08</td>\n",
              "      <td>171.69</td>\n",
              "      <td>51310000.0</td>\n",
              "    </tr>\n",
              "    <tr>\n",
              "      <th>289</th>\n",
              "      <td>2022-12-07</td>\n",
              "      <td>161.20</td>\n",
              "      <td>37160000.0</td>\n",
              "    </tr>\n",
              "    <tr>\n",
              "      <th>290</th>\n",
              "      <td>2022-12-06</td>\n",
              "      <td>159.87</td>\n",
              "      <td>35190000.0</td>\n",
              "    </tr>\n",
              "    <tr>\n",
              "      <th>291</th>\n",
              "      <td>2022-12-05</td>\n",
              "      <td>166.10</td>\n",
              "      <td>35010000.0</td>\n",
              "    </tr>\n",
              "  </tbody>\n",
              "</table>\n",
              "</div>\n",
              "    <div class=\"colab-df-buttons\">\n",
              "\n",
              "  <div class=\"colab-df-container\">\n",
              "    <button class=\"colab-df-convert\" onclick=\"convertToInteractive('df-c067d3c3-3c54-4a50-b5ec-0f2b4d47f8a1')\"\n",
              "            title=\"Convert this dataframe to an interactive table.\"\n",
              "            style=\"display:none;\">\n",
              "\n",
              "  <svg xmlns=\"http://www.w3.org/2000/svg\" height=\"24px\" viewBox=\"0 -960 960 960\">\n",
              "    <path d=\"M120-120v-720h720v720H120Zm60-500h600v-160H180v160Zm220 220h160v-160H400v160Zm0 220h160v-160H400v160ZM180-400h160v-160H180v160Zm440 0h160v-160H620v160ZM180-180h160v-160H180v160Zm440 0h160v-160H620v160Z\"/>\n",
              "  </svg>\n",
              "    </button>\n",
              "\n",
              "  <style>\n",
              "    .colab-df-container {\n",
              "      display:flex;\n",
              "      gap: 12px;\n",
              "    }\n",
              "\n",
              "    .colab-df-convert {\n",
              "      background-color: #E8F0FE;\n",
              "      border: none;\n",
              "      border-radius: 50%;\n",
              "      cursor: pointer;\n",
              "      display: none;\n",
              "      fill: #1967D2;\n",
              "      height: 32px;\n",
              "      padding: 0 0 0 0;\n",
              "      width: 32px;\n",
              "    }\n",
              "\n",
              "    .colab-df-convert:hover {\n",
              "      background-color: #E2EBFA;\n",
              "      box-shadow: 0px 1px 2px rgba(60, 64, 67, 0.3), 0px 1px 3px 1px rgba(60, 64, 67, 0.15);\n",
              "      fill: #174EA6;\n",
              "    }\n",
              "\n",
              "    .colab-df-buttons div {\n",
              "      margin-bottom: 4px;\n",
              "    }\n",
              "\n",
              "    [theme=dark] .colab-df-convert {\n",
              "      background-color: #3B4455;\n",
              "      fill: #D2E3FC;\n",
              "    }\n",
              "\n",
              "    [theme=dark] .colab-df-convert:hover {\n",
              "      background-color: #434B5C;\n",
              "      box-shadow: 0px 1px 3px 1px rgba(0, 0, 0, 0.15);\n",
              "      filter: drop-shadow(0px 1px 2px rgba(0, 0, 0, 0.3));\n",
              "      fill: #FFFFFF;\n",
              "    }\n",
              "  </style>\n",
              "\n",
              "    <script>\n",
              "      const buttonEl =\n",
              "        document.querySelector('#df-c067d3c3-3c54-4a50-b5ec-0f2b4d47f8a1 button.colab-df-convert');\n",
              "      buttonEl.style.display =\n",
              "        google.colab.kernel.accessAllowed ? 'block' : 'none';\n",
              "\n",
              "      async function convertToInteractive(key) {\n",
              "        const element = document.querySelector('#df-c067d3c3-3c54-4a50-b5ec-0f2b4d47f8a1');\n",
              "        const dataTable =\n",
              "          await google.colab.kernel.invokeFunction('convertToInteractive',\n",
              "                                                    [key], {});\n",
              "        if (!dataTable) return;\n",
              "\n",
              "        const docLinkHtml = 'Like what you see? Visit the ' +\n",
              "          '<a target=\"_blank\" href=https://colab.research.google.com/notebooks/data_table.ipynb>data table notebook</a>'\n",
              "          + ' to learn more about interactive tables.';\n",
              "        element.innerHTML = '';\n",
              "        dataTable['output_type'] = 'display_data';\n",
              "        await google.colab.output.renderOutput(dataTable, element);\n",
              "        const docLink = document.createElement('div');\n",
              "        docLink.innerHTML = docLinkHtml;\n",
              "        element.appendChild(docLink);\n",
              "      }\n",
              "    </script>\n",
              "  </div>\n",
              "\n",
              "\n",
              "<div id=\"df-d59c8c4b-d354-47d2-a174-613ccd23639f\">\n",
              "  <button class=\"colab-df-quickchart\" onclick=\"quickchart('df-d59c8c4b-d354-47d2-a174-613ccd23639f')\"\n",
              "            title=\"Suggest charts\"\n",
              "            style=\"display:none;\">\n",
              "\n",
              "<svg xmlns=\"http://www.w3.org/2000/svg\" height=\"24px\"viewBox=\"0 0 24 24\"\n",
              "     width=\"24px\">\n",
              "    <g>\n",
              "        <path d=\"M19 3H5c-1.1 0-2 .9-2 2v14c0 1.1.9 2 2 2h14c1.1 0 2-.9 2-2V5c0-1.1-.9-2-2-2zM9 17H7v-7h2v7zm4 0h-2V7h2v10zm4 0h-2v-4h2v4z\"/>\n",
              "    </g>\n",
              "</svg>\n",
              "  </button>\n",
              "\n",
              "<style>\n",
              "  .colab-df-quickchart {\n",
              "      --bg-color: #E8F0FE;\n",
              "      --fill-color: #1967D2;\n",
              "      --hover-bg-color: #E2EBFA;\n",
              "      --hover-fill-color: #174EA6;\n",
              "      --disabled-fill-color: #AAA;\n",
              "      --disabled-bg-color: #DDD;\n",
              "  }\n",
              "\n",
              "  [theme=dark] .colab-df-quickchart {\n",
              "      --bg-color: #3B4455;\n",
              "      --fill-color: #D2E3FC;\n",
              "      --hover-bg-color: #434B5C;\n",
              "      --hover-fill-color: #FFFFFF;\n",
              "      --disabled-bg-color: #3B4455;\n",
              "      --disabled-fill-color: #666;\n",
              "  }\n",
              "\n",
              "  .colab-df-quickchart {\n",
              "    background-color: var(--bg-color);\n",
              "    border: none;\n",
              "    border-radius: 50%;\n",
              "    cursor: pointer;\n",
              "    display: none;\n",
              "    fill: var(--fill-color);\n",
              "    height: 32px;\n",
              "    padding: 0;\n",
              "    width: 32px;\n",
              "  }\n",
              "\n",
              "  .colab-df-quickchart:hover {\n",
              "    background-color: var(--hover-bg-color);\n",
              "    box-shadow: 0 1px 2px rgba(60, 64, 67, 0.3), 0 1px 3px 1px rgba(60, 64, 67, 0.15);\n",
              "    fill: var(--button-hover-fill-color);\n",
              "  }\n",
              "\n",
              "  .colab-df-quickchart-complete:disabled,\n",
              "  .colab-df-quickchart-complete:disabled:hover {\n",
              "    background-color: var(--disabled-bg-color);\n",
              "    fill: var(--disabled-fill-color);\n",
              "    box-shadow: none;\n",
              "  }\n",
              "\n",
              "  .colab-df-spinner {\n",
              "    border: 2px solid var(--fill-color);\n",
              "    border-color: transparent;\n",
              "    border-bottom-color: var(--fill-color);\n",
              "    animation:\n",
              "      spin 1s steps(1) infinite;\n",
              "  }\n",
              "\n",
              "  @keyframes spin {\n",
              "    0% {\n",
              "      border-color: transparent;\n",
              "      border-bottom-color: var(--fill-color);\n",
              "      border-left-color: var(--fill-color);\n",
              "    }\n",
              "    20% {\n",
              "      border-color: transparent;\n",
              "      border-left-color: var(--fill-color);\n",
              "      border-top-color: var(--fill-color);\n",
              "    }\n",
              "    30% {\n",
              "      border-color: transparent;\n",
              "      border-left-color: var(--fill-color);\n",
              "      border-top-color: var(--fill-color);\n",
              "      border-right-color: var(--fill-color);\n",
              "    }\n",
              "    40% {\n",
              "      border-color: transparent;\n",
              "      border-right-color: var(--fill-color);\n",
              "      border-top-color: var(--fill-color);\n",
              "    }\n",
              "    60% {\n",
              "      border-color: transparent;\n",
              "      border-right-color: var(--fill-color);\n",
              "    }\n",
              "    80% {\n",
              "      border-color: transparent;\n",
              "      border-right-color: var(--fill-color);\n",
              "      border-bottom-color: var(--fill-color);\n",
              "    }\n",
              "    90% {\n",
              "      border-color: transparent;\n",
              "      border-bottom-color: var(--fill-color);\n",
              "    }\n",
              "  }\n",
              "</style>\n",
              "\n",
              "  <script>\n",
              "    async function quickchart(key) {\n",
              "      const quickchartButtonEl =\n",
              "        document.querySelector('#' + key + ' button');\n",
              "      quickchartButtonEl.disabled = true;  // To prevent multiple clicks.\n",
              "      quickchartButtonEl.classList.add('colab-df-spinner');\n",
              "      try {\n",
              "        const charts = await google.colab.kernel.invokeFunction(\n",
              "            'suggestCharts', [key], {});\n",
              "      } catch (error) {\n",
              "        console.error('Error during call to suggestCharts:', error);\n",
              "      }\n",
              "      quickchartButtonEl.classList.remove('colab-df-spinner');\n",
              "      quickchartButtonEl.classList.add('colab-df-quickchart-complete');\n",
              "    }\n",
              "    (() => {\n",
              "      let quickchartButtonEl =\n",
              "        document.querySelector('#df-d59c8c4b-d354-47d2-a174-613ccd23639f button');\n",
              "      quickchartButtonEl.style.display =\n",
              "        google.colab.kernel.accessAllowed ? 'block' : 'none';\n",
              "    })();\n",
              "  </script>\n",
              "</div>\n",
              "    </div>\n",
              "  </div>\n"
            ],
            "application/vnd.google.colaboratory.intrinsic+json": {
              "type": "dataframe",
              "summary": "{\n  \"name\": \"nvidia_df\",\n  \"rows\": 5,\n  \"fields\": [\n    {\n      \"column\": \"Date\",\n      \"properties\": {\n        \"dtype\": \"date\",\n        \"min\": \"2022-12-05 00:00:00\",\n        \"max\": \"2022-12-09 00:00:00\",\n        \"num_unique_values\": 5,\n        \"samples\": [\n          \"2022-12-08 00:00:00\",\n          \"2022-12-05 00:00:00\",\n          \"2022-12-07 00:00:00\"\n        ],\n        \"semantic_type\": \"\",\n        \"description\": \"\"\n      }\n    },\n    {\n      \"column\": \"Nvidia_Price\",\n      \"properties\": {\n        \"dtype\": \"number\",\n        \"std\": 5.216026265271292,\n        \"min\": 159.87,\n        \"max\": 171.69,\n        \"num_unique_values\": 5,\n        \"samples\": [\n          171.69,\n          166.1,\n          161.2\n        ],\n        \"semantic_type\": \"\",\n        \"description\": \"\"\n      }\n    },\n    {\n      \"column\": \"Nvidia_Vol.\",\n      \"properties\": {\n        \"dtype\": \"number\",\n        \"std\": 7437250.836162513,\n        \"min\": 35010000.0,\n        \"max\": 51310000.0,\n        \"num_unique_values\": 5,\n        \"samples\": [\n          51310000.0,\n          35010000.0,\n          37160000.0\n        ],\n        \"semantic_type\": \"\",\n        \"description\": \"\"\n      }\n    }\n  ]\n}"
            }
          },
          "metadata": {},
          "execution_count": 7
        }
      ]
    },
    {
      "cell_type": "code",
      "source": [
        "import matplotlib.dates as mdates\n",
        "\n",
        "# Plotting the histogram of tweets per day\n",
        "ax = nvidia_df.plot(kind='bar', x='Date', y='Nvidia_Price', legend=True, color='skyblue',figsize=(12,6))\n",
        "\n",
        "# Rotate date labels\n",
        "plt.xticks(rotation=90)\n",
        "\n",
        "# Set a more reasonable x-ticks density, e.g., one tick per week\n",
        "ax.xaxis.set_major_locator(mdates.WeekdayLocator())\n",
        "#ax.xaxis.set_major_formatter(mdates.DateFormatter('%Y-%m-%d'))\n",
        "\n",
        "# Adjust the tick parameters\n",
        "plt.tick_params(axis='x', which='major', labelsize=10)  # Adjust the size as needed\n",
        "plt.tick_params(axis='y', which='major', labelsize=12)\n",
        "\n",
        "# Increase label and title size\n",
        "plt.title('Nvidia Price Per Day', fontsize=20)\n",
        "plt.xlabel('Date', fontsize=14)\n",
        "plt.ylabel('Price (USD)', fontsize=14)\n",
        "\n",
        "# Gridlines\n",
        "plt.grid(axis='y', linestyle='--', linewidth=0.5)\n",
        "\n",
        "# Adjust legend\n",
        "plt.legend(title='Legend')\n",
        "\n",
        "# Show plot with tight layout\n",
        "plt.tight_layout()\n",
        "\n",
        "plt.show()"
      ],
      "metadata": {
        "colab": {
          "base_uri": "https://localhost:8080/",
          "height": 607
        },
        "id": "7QndNB58riwL",
        "outputId": "bfa8b018-a517-4081-bfbb-76f9763d10c5"
      },
      "execution_count": null,
      "outputs": [
        {
          "output_type": "display_data",
          "data": {
            "text/plain": [
              "<Figure size 1200x600 with 1 Axes>"
            ],
            "image/png": "[encoded data removed]"
          },
          "metadata": {}
        }
      ]
    },
    {
      "cell_type": "code",
      "source": [
        "import matplotlib.dates as mdates\n",
        "\n",
        "# Plotting the histogram of tweets per day\n",
        "ax = nvidia_df.plot(kind='bar', x='Date', y='Nvidia_Vol.', legend=True, color='skyblue',figsize=(12,6))\n",
        "\n",
        "# Rotate date labels\n",
        "plt.xticks(rotation=90)\n",
        "\n",
        "# Set a more reasonable x-ticks density, e.g., one tick per week\n",
        "ax.xaxis.set_major_locator(mdates.WeekdayLocator())\n",
        "#ax.xaxis.set_major_formatter(mdates.DateFormatter('%Y-%m-%d'))\n",
        "\n",
        "# Adjust the tick parameters\n",
        "plt.tick_params(axis='x', which='major', labelsize=10)  # Adjust the size as needed\n",
        "plt.tick_params(axis='y', which='major', labelsize=12)\n",
        "\n",
        "# Increase label and title size\n",
        "plt.title('Nvidia Volume Per Day', fontsize=20)\n",
        "plt.xlabel('Date', fontsize=14)\n",
        "plt.ylabel('Volume', fontsize=14)\n",
        "\n",
        "# Gridlines\n",
        "plt.grid(axis='y', linestyle='--', linewidth=0.5)\n",
        "\n",
        "# Adjust legend\n",
        "plt.legend(title='Legend')\n",
        "\n",
        "# Show plot with tight layout\n",
        "plt.tight_layout()\n",
        "\n",
        "plt.show()"
      ],
      "metadata": {
        "colab": {
          "base_uri": "https://localhost:8080/",
          "height": 607
        },
        "id": "ix7Fr3d2swZB",
        "outputId": "371bdb15-c3e3-43a2-8bf7-77e2ccb25545"
      },
      "execution_count": null,
      "outputs": [
        {
          "output_type": "display_data",
          "data": {
            "text/plain": [
              "<Figure size 1200x600 with 1 Axes>"
            ],
            "image/png": "[encoded data removed]"
          },
          "metadata": {}
        }
      ]
    },
    {
      "cell_type": "code",
      "source": [
        "fname_tweets = \"tweets.csv\"\n",
        "\n",
        "df_tweets = pd.read_csv(join(path_prefix, fname_tweets), lineterminator='\\n')\n",
        "df_tweets.drop(['user_name', 'text', 'user_location', 'user_description', 'user_created', 'user_friends', 'user_favourites', 'user_verified', 'hashtags', 'source'], axis=1, inplace=True)\n",
        "df_tweets['date'] = pd.to_datetime(df_tweets['date'], errors='coerce')"
      ],
      "metadata": {
        "colab": {
          "base_uri": "https://localhost:8080/"
        },
        "id": "b7XUZ5Qus7m6",
        "outputId": "ac80ced3-9f94-4a0c-922a-e4eebd18b25c"
      },
      "execution_count": null,
      "outputs": [
        {
          "output_type": "stream",
          "name": "stderr",
          "text": [
            "<ipython-input-10-5b133a1a16f8>:3: DtypeWarning: Columns (7,8) have mixed types. Specify dtype option on import or set low_memory=False.\n",
            "  df_tweets = pd.read_csv(join(path_prefix, fname_tweets), lineterminator='\\n')\n"
          ]
        }
      ]
    },
    {
      "cell_type": "code",
      "source": [
        "# Step 1: Extract date from 'DateTime' and group by this date\n",
        "# This will create a series with dates as the index and counts as the values\n",
        "tweet_weights_per_day = df_tweets.groupby('date').apply(lambda x: (x['user_followers']).sum())\n",
        "\n",
        "\n",
        "# Step 2: Convert the series to a new dataframe if you need a dataframe format\n",
        "tweet_weights_per_day_df = tweet_weights_per_day.reset_index()\n",
        "tweet_weights_per_day_df.columns = ['Date', 'TweetWeight']\n",
        "\n",
        "tweet_weights_per_day_df['Date'] = pd.to_datetime(tweet_weights_per_day_df['Date']).dt.date\n",
        "\n",
        "tweet_weights_per_day_df.dtypes\n",
        "# Now 'tweets_per_day_df' is your new dataframe with the count of tweets per day\n",
        "tweet_weights_per_day_df\n",
        "\n",
        "tweet_weights_per_day_df = tweet_weights_per_day_df.groupby('Date')['TweetWeight'].sum().reset_index()\n",
        "tweet_weights_per_day_df\n",
        "tweet_weights_per_day_df['SqrtTweetWeight'] = np.sqrt(tweet_weights_per_day_df['TweetWeight'])"
      ],
      "metadata": {
        "id": "ukp-TskntMMA"
      },
      "execution_count": null,
      "outputs": []
    },
    {
      "cell_type": "code",
      "source": [
        "import matplotlib.pyplot as plt\n",
        "import matplotlib.dates as mdates\n",
        "\n",
        "# Plotting the histogram of tweets per day\n",
        "ax = tweet_weights_per_day_df.plot(kind='bar', x='Date', y='SqrtTweetWeight', legend=True, color='skyblue',figsize=(12,6))\n",
        "\n",
        "# Rotate date labels\n",
        "plt.xticks(rotation=90)\n",
        "\n",
        "# Set a more reasonable x-ticks density, e.g., one tick per week\n",
        "ax.xaxis.set_major_locator(mdates.WeekdayLocator())\n",
        "#ax.xaxis.set_major_formatter(mdates.DateFormatter('%Y-%m-%d'))\n",
        "\n",
        "# Adjust the tick parameters\n",
        "plt.tick_params(axis='x', which='major', labelsize=10)  # Adjust the size as needed\n",
        "plt.tick_params(axis='y', which='major', labelsize=12)\n",
        "\n",
        "# Increase label and title size\n",
        "plt.title('Tweet Weights Per Day', fontsize=20)\n",
        "plt.xlabel('Date', fontsize=14)\n",
        "plt.ylabel('Tweet Weights (Mention x Follower)', fontsize=14)\n",
        "\n",
        "# Gridlines\n",
        "plt.grid(axis='y', linestyle='--', linewidth=0.5)\n",
        "\n",
        "# Adjust legend\n",
        "plt.legend(title='Legend')\n",
        "\n",
        "# Show plot with tight layout\n",
        "plt.tight_layout()\n",
        "\n",
        "plt.show()\n"
      ],
      "metadata": {
        "colab": {
          "base_uri": "https://localhost:8080/",
          "height": 607
        },
        "id": "PtEdNudMtmoX",
        "outputId": "149d33de-3bd2-4593-cbf0-e05268e8d286"
      },
      "execution_count": null,
      "outputs": [
        {
          "output_type": "display_data",
          "data": {
            "text/plain": [
              "<Figure size 1200x600 with 1 Axes>"
            ],
            "image/png": "[encoded data removed]"
          },
          "metadata": {}
        }
      ]
    },
    {
      "cell_type": "code",
      "source": [
        "nvidia_df.sort_index(ascending=False, inplace=True)"
      ],
      "metadata": {
        "id": "bdrBLQJ6ze32"
      },
      "execution_count": null,
      "outputs": []
    },
    {
      "cell_type": "code",
      "source": [
        "tweet_weights_per_day_df['Date']"
      ],
      "metadata": {
        "colab": {
          "base_uri": "https://localhost:8080/"
        },
        "id": "zGZVyUINug1u",
        "outputId": "ac4895cd-a878-41d2-c743-3f1bf462b917"
      },
      "execution_count": null,
      "outputs": [
        {
          "output_type": "execute_result",
          "data": {
            "text/plain": [
              "0     2022-12-05\n",
              "1     2022-12-06\n",
              "2     2022-12-07\n",
              "3     2022-12-08\n",
              "4     2022-12-09\n",
              "         ...    \n",
              "95    2023-04-08\n",
              "96    2023-04-09\n",
              "97    2023-04-10\n",
              "98    2023-04-11\n",
              "99    2023-04-12\n",
              "Name: Date, Length: 100, dtype: object"
            ]
          },
          "metadata": {},
          "execution_count": 14
        }
      ]
    },
    {
      "cell_type": "code",
      "source": [
        "nvidia_df['Date']"
      ],
      "metadata": {
        "colab": {
          "base_uri": "https://localhost:8080/"
        },
        "id": "3vgCFzGhGTfk",
        "outputId": "720966ff-54c2-4ac7-b206-2b117dccf78a"
      },
      "execution_count": null,
      "outputs": [
        {
          "output_type": "execute_result",
          "data": {
            "text/plain": [
              "291   2022-12-05\n",
              "290   2022-12-06\n",
              "289   2022-12-07\n",
              "288   2022-12-08\n",
              "287   2022-12-09\n",
              "         ...    \n",
              "208   2023-04-05\n",
              "207   2023-04-06\n",
              "206   2023-04-10\n",
              "205   2023-04-11\n",
              "204   2023-04-12\n",
              "Name: Date, Length: 88, dtype: datetime64[ns]"
            ]
          },
          "metadata": {},
          "execution_count": 15
        }
      ]
    },
    {
      "cell_type": "code",
      "source": [
        "tweet_weights_per_day_df['Date'] = pd.to_datetime(tweet_weights_per_day_df['Date'], utc=True)\n",
        "nvidia_df['Date'] = pd.to_datetime(nvidia_df['Date'], utc=True)"
      ],
      "metadata": {
        "id": "n29KrGP_I-iK"
      },
      "execution_count": null,
      "outputs": []
    },
    {
      "cell_type": "code",
      "source": [
        "# Combined since the date differences and ease of use\n",
        "combined_df = pd.merge(tweet_weights_per_day_df, nvidia_df, on='Date', how='inner')"
      ],
      "metadata": {
        "id": "qdTZ_ywVHEPC"
      },
      "execution_count": null,
      "outputs": []
    },
    {
      "cell_type": "code",
      "source": [
        "combined_df['SqrtTradeVol'] = np.sqrt(combined_df['Nvidia_Vol.'])"
      ],
      "metadata": {
        "id": "-YXXeM0f8LEf"
      },
      "execution_count": null,
      "outputs": []
    },
    {
      "cell_type": "code",
      "source": [
        "fig, axs = plt.subplots(1, 2, figsize=(16, 8))\n",
        "fig.tight_layout(pad=5.0)\n",
        "\n",
        "axs[0].scatter(combined_df['SqrtTweetWeight'], combined_df['Nvidia_Price'], alpha=0.5)\n",
        "axs[0].set_title('Tweet Weights vs Nvidia Price')\n",
        "axs[0].set_xlabel('Tweet Weights')\n",
        "axs[0].set_ylabel('Nvidia Price ($)')\n",
        "\n",
        "axs[1].scatter(combined_df['SqrtTweetWeight'], combined_df['SqrtTradeVol'], alpha=0.5)\n",
        "axs[1].set_title('Tweet Weights vs Nvidia Volume')\n",
        "axs[1].set_xlabel('Tweet Weights')\n",
        "axs[1].set_ylabel('Nvidia Volume')"
      ],
      "metadata": {
        "colab": {
          "base_uri": "https://localhost:8080/",
          "height": 751
        },
        "id": "yqkdGpDIt0m-",
        "outputId": "ba98b467-d3ca-41c4-f34c-4d4b8c51d401"
      },
      "execution_count": null,
      "outputs": [
        {
          "output_type": "execute_result",
          "data": {
            "text/plain": [
              "Text(839.0858585858584, 0.5, 'Nvidia Volume')"
            ]
          },
          "metadata": {},
          "execution_count": 19
        },
        {
          "output_type": "display_data",
          "data": {
            "text/plain": [
              "<Figure size 1600x800 with 2 Axes>"
            ],
            "image/png": "[encoded data removed]"
          },
          "metadata": {}
        }
      ]
    },
    {
      "cell_type": "code",
      "source": [
        "combined_df.info()"
      ],
      "metadata": {
        "id": "M4zUqGTC849W",
        "colab": {
          "base_uri": "https://localhost:8080/"
        },
        "outputId": "2a8bb626-229b-4723-97f8-a7c21967d267"
      },
      "execution_count": null,
      "outputs": [
        {
          "output_type": "stream",
          "name": "stdout",
          "text": [
            "<class 'pandas.core.frame.DataFrame'>\n",
            "RangeIndex: 70 entries, 0 to 69\n",
            "Data columns (total 6 columns):\n",
            " #   Column           Non-Null Count  Dtype              \n",
            "---  ------           --------------  -----              \n",
            " 0   Date             70 non-null     datetime64[ns, UTC]\n",
            " 1   TweetWeight      70 non-null     float64            \n",
            " 2   SqrtTweetWeight  70 non-null     float64            \n",
            " 3   Nvidia_Price     70 non-null     float64            \n",
            " 4   Nvidia_Vol.      70 non-null     float64            \n",
            " 5   SqrtTradeVol     70 non-null     float64            \n",
            "dtypes: datetime64[ns, UTC](1), float64(5)\n",
            "memory usage: 3.4 KB\n"
          ]
        }
      ]
    },
    {
      "cell_type": "markdown",
      "source": [
        "## ***Hypothesis Testing***"
      ],
      "metadata": {
        "id": "SjMBiu7KL5_C"
      }
    },
    {
      "cell_type": "markdown",
      "source": [
        "\n",
        "In this section, our purpose is to determine our hypothesis and test it and make inferences using sample data over the population. We will do it with three steps as below:\n",
        "\n",
        "1.   **Determine Hypothesis**\n",
        "\n",
        "2.   **Test Using Statistics**\n",
        "\n",
        "3. **Find p-value and Conclude**"
      ],
      "metadata": {
        "id": "2gfpV2wLL145"
      }
    },
    {
      "cell_type": "markdown",
      "source": [
        "**Hypothesis:** The weight of tweets consists “GPT” word results in volume increase in Nvidia Stock volume<br>\n"
      ],
      "metadata": {
        "id": "nstV5fiML-Cr"
      }
    },
    {
      "cell_type": "code",
      "source": [
        "from scipy import stats\n",
        "from scipy import special"
      ],
      "metadata": {
        "id": "YvlGVFR7My3p"
      },
      "execution_count": null,
      "outputs": []
    },
    {
      "cell_type": "markdown",
      "source": [
        "In conclusion, we can reject null hypothesis since p value < 0.05.\n",
        "However, we see that we cannot say whether volume has an effect on increase in market volume since our probability is 56%."
      ],
      "metadata": {
        "id": "mLjY4G-8X8vD"
      }
    },
    {
      "cell_type": "code",
      "source": [
        "print(\"Correlation stats between SqrtTweetWeight and SqrtTradeVol:\")\n",
        "stats.pearsonr(combined_df[\"SqrtTweetWeight\"], combined_df['SqrtTradeVol'])"
      ],
      "metadata": {
        "colab": {
          "base_uri": "https://localhost:8080/"
        },
        "id": "5a41-tN9Neoh",
        "outputId": "cda9177d-5e25-446f-dcc8-7c40505f4577"
      },
      "execution_count": null,
      "outputs": [
        {
          "output_type": "stream",
          "name": "stdout",
          "text": [
            "Correlation stats between SqrtTweetWeight and SqrtTradeVol:\n"
          ]
        },
        {
          "output_type": "execute_result",
          "data": {
            "text/plain": [
              "PearsonRResult(statistic=0.41403398601502617, pvalue=0.0003666374391050123)"
            ]
          },
          "metadata": {},
          "execution_count": 22
        }
      ]
    },
    {
      "cell_type": "markdown",
      "source": [
        "As the correlation coefficient, we obtained 0.41 which states that the correlation between SqrtTweetWeight and SqrtTradeVol is not significant. From the p-value, less than the significance level, we can reject null hypothesis since p value < 0.05."
      ],
      "metadata": {
        "id": "loCMnPGMNjNr"
      }
    },
    {
      "cell_type": "markdown",
      "source": [
        "# ***LINEAR REGRESSION MODEL***\n"
      ],
      "metadata": {
        "id": "CtapH2ikZOMc"
      }
    },
    {
      "cell_type": "code",
      "source": [
        "from sklearn.model_selection import train_test_split\n",
        "from sklearn.linear_model import LinearRegression\n",
        "from sklearn import metrics"
      ],
      "metadata": {
        "id": "AJ0KqvrIZkcF"
      },
      "execution_count": null,
      "outputs": []
    },
    {
      "cell_type": "code",
      "source": [
        "combined_df.plot.scatter(x=\"SqrtTweetWeight\", y=\"SqrtTradeVol\", s=5)\n",
        "plt.title(\"SqrtTweetWeight vs SqrtTradeVol\")\n",
        "plt.xlabel(\"SqrtTweetWeight\")\n",
        "plt.ylabel(\"SqrtTradeVol\")\n",
        "plt.show()"
      ],
      "metadata": {
        "colab": {
          "base_uri": "https://localhost:8080/",
          "height": 472
        },
        "id": "8hzEUhWFZlnr",
        "outputId": "28b7ecc0-211f-43c4-b8f2-04fd1fd77b78"
      },
      "execution_count": null,
      "outputs": [
        {
          "output_type": "display_data",
          "data": {
            "text/plain": [
              "<Figure size 640x480 with 1 Axes>"
            ],
            "image/png": "[encoded data removed]"
          },
          "metadata": {}
        }
      ]
    },
    {
      "cell_type": "code",
      "source": [
        "# extracting the input and output vectors\n",
        "X = combined_df['SqrtTweetWeight'].values.reshape(-1,1)  # converting to column vector\n",
        "y = combined_df['SqrtTradeVol'].values\n",
        "\n",
        "# train-test split\n",
        "X_train, X_test, y_train, y_test = train_test_split(X, y, test_size=0.2, random_state=0)"
      ],
      "metadata": {
        "id": "MfFBw5wuZy_W"
      },
      "execution_count": null,
      "outputs": []
    },
    {
      "cell_type": "code",
      "source": [
        "# creating the model\n",
        "model = LinearRegression()\n",
        "model.fit(X_train, y_train)"
      ],
      "metadata": {
        "colab": {
          "base_uri": "https://localhost:8080/",
          "height": 75
        },
        "id": "stoegz3SZ3Gm",
        "outputId": "b47fee47-bf8a-4a23-a2a7-52e057b5b13e"
      },
      "execution_count": null,
      "outputs": [
        {
          "output_type": "execute_result",
          "data": {
            "text/plain": [
              "LinearRegression()"
            ],
            "text/html": [
              "<style>#sk-container-id-1 {color: black;background-color: white;}#sk-container-id-1 pre{padding: 0;}#sk-container-id-1 div.sk-toggleable {background-color: white;}#sk-container-id-1 label.sk-toggleable__label {cursor: pointer;display: block;width: 100%;margin-bottom: 0;padding: 0.3em;box-sizing: border-box;text-align: center;}#sk-container-id-1 label.sk-toggleable__label-arrow:before {content: \"▸\";float: left;margin-right: 0.25em;color: #696969;}#sk-container-id-1 label.sk-toggleable__label-arrow:hover:before {color: black;}#sk-container-id-1 div.sk-estimator:hover label.sk-toggleable__label-arrow:before {color: black;}#sk-container-id-1 div.sk-toggleable__content {max-height: 0;max-width: 0;overflow: hidden;text-align: left;background-color: #f0f8ff;}#sk-container-id-1 div.sk-toggleable__content pre {margin: 0.2em;color: black;border-radius: 0.25em;background-color: #f0f8ff;}#sk-container-id-1 input.sk-toggleable__control:checked~div.sk-toggleable__content {max-height: 200px;max-width: 100%;overflow: auto;}#sk-container-id-1 input.sk-toggleable__control:checked~label.sk-toggleable__label-arrow:before {content: \"▾\";}#sk-container-id-1 div.sk-estimator input.sk-toggleable__control:checked~label.sk-toggleable__label {background-color: #d4ebff;}#sk-container-id-1 div.sk-label input.sk-toggleable__control:checked~label.sk-toggleable__label {background-color: #d4ebff;}#sk-container-id-1 input.sk-hidden--visually {border: 0;clip: rect(1px 1px 1px 1px);clip: rect(1px, 1px, 1px, 1px);height: 1px;margin: -1px;overflow: hidden;padding: 0;position: absolute;width: 1px;}#sk-container-id-1 div.sk-estimator {font-family: monospace;background-color: #f0f8ff;border: 1px dotted black;border-radius: 0.25em;box-sizing: border-box;margin-bottom: 0.5em;}#sk-container-id-1 div.sk-estimator:hover {background-color: #d4ebff;}#sk-container-id-1 div.sk-parallel-item::after {content: \"\";width: 100%;border-bottom: 1px solid gray;flex-grow: 1;}#sk-container-id-1 div.sk-label:hover label.sk-toggleable__label {background-color: #d4ebff;}#sk-container-id-1 div.sk-serial::before {content: \"\";position: absolute;border-left: 1px solid gray;box-sizing: border-box;top: 0;bottom: 0;left: 50%;z-index: 0;}#sk-container-id-1 div.sk-serial {display: flex;flex-direction: column;align-items: center;background-color: white;padding-right: 0.2em;padding-left: 0.2em;position: relative;}#sk-container-id-1 div.sk-item {position: relative;z-index: 1;}#sk-container-id-1 div.sk-parallel {display: flex;align-items: stretch;justify-content: center;background-color: white;position: relative;}#sk-container-id-1 div.sk-item::before, #sk-container-id-1 div.sk-parallel-item::before {content: \"\";position: absolute;border-left: 1px solid gray;box-sizing: border-box;top: 0;bottom: 0;left: 50%;z-index: -1;}#sk-container-id-1 div.sk-parallel-item {display: flex;flex-direction: column;z-index: 1;position: relative;background-color: white;}#sk-container-id-1 div.sk-parallel-item:first-child::after {align-self: flex-end;width: 50%;}#sk-container-id-1 div.sk-parallel-item:last-child::after {align-self: flex-start;width: 50%;}#sk-container-id-1 div.sk-parallel-item:only-child::after {width: 0;}#sk-container-id-1 div.sk-dashed-wrapped {border: 1px dashed gray;margin: 0 0.4em 0.5em 0.4em;box-sizing: border-box;padding-bottom: 0.4em;background-color: white;}#sk-container-id-1 div.sk-label label {font-family: monospace;font-weight: bold;display: inline-block;line-height: 1.2em;}#sk-container-id-1 div.sk-label-container {text-align: center;}#sk-container-id-1 div.sk-container {/* jupyter's `normalize.less` sets `[hidden] { display: none; }` but bootstrap.min.css set `[hidden] { display: none !important; }` so we also need the `!important` here to be able to override the default hidden behavior on the sphinx rendered scikit-learn.org. See: https://github.com/scikit-learn/scikit-learn/issues/21755 */display: inline-block !important;position: relative;}#sk-container-id-1 div.sk-text-repr-fallback {display: none;}</style><div id=\"sk-container-id-1\" class=\"sk-top-container\"><div class=\"sk-text-repr-fallback\"><pre>LinearRegression()</pre><b>In a Jupyter environment, please rerun this cell to show the HTML representation or trust the notebook. <br />On GitHub, the HTML representation is unable to render, please try loading this page with nbviewer.org.</b></div><div class=\"sk-container\" hidden><div class=\"sk-item\"><div class=\"sk-estimator sk-toggleable\"><input class=\"sk-toggleable__control sk-hidden--visually\" id=\"sk-estimator-id-1\" type=\"checkbox\" checked><label for=\"sk-estimator-id-1\" class=\"sk-toggleable__label sk-toggleable__label-arrow\">LinearRegression</label><div class=\"sk-toggleable__content\"><pre>LinearRegression()</pre></div></div></div></div></div>"
            ]
          },
          "metadata": {},
          "execution_count": 26
        }
      ]
    },
    {
      "cell_type": "code",
      "source": [
        "# intercept\n",
        "b = model.intercept_\n",
        "# slope\n",
        "m = model.coef_\n",
        "\n",
        "print(m, b, sep=\"\\n\")"
      ],
      "metadata": {
        "colab": {
          "base_uri": "https://localhost:8080/"
        },
        "id": "UJTX_jIdZ6oN",
        "outputId": "a42110e0-d79a-4438-9eac-23de9f586408"
      },
      "execution_count": null,
      "outputs": [
        {
          "output_type": "stream",
          "name": "stdout",
          "text": [
            "[0.08126794]\n",
            "6083.41622618089\n"
          ]
        }
      ]
    },
    {
      "cell_type": "code",
      "source": [
        "# a function to calculate the coefficient $R^2$. This function will take two parameters, namely *y_pred* and *y_true* and then calculate the $R^2$ as described above.\n",
        "def r2(y_true, y_pred):\n",
        "  u = sum((y_true - y_pred)**2)\n",
        "  v = sum((y_true - y_true.mean())**2)\n",
        "\n",
        "  return 1-(u/v)"
      ],
      "metadata": {
        "id": "DIwNDpx5aLz2"
      },
      "execution_count": null,
      "outputs": []
    },
    {
      "cell_type": "code",
      "source": [
        "# resulting regression line\n",
        "rline = m[0]*X.flatten() + b\n",
        "\n",
        "combined_df.plot.scatter(x=\"SqrtTweetWeight\", y=\"SqrtTradeVol\", s=5)\n",
        "plt.plot(X.flatten(), rline, c=\"red\")\n",
        "plt.title(r\"$R^2: {:.2f}$\".format(r2(y, rline)))\n",
        "plt.xlabel(\"SqrtTweetWeight\")\n",
        "plt.ylabel(\"SqrtTradeVol\")\n",
        "plt.show()"
      ],
      "metadata": {
        "colab": {
          "base_uri": "https://localhost:8080/",
          "height": 474
        },
        "id": "jPQkwTLGZ9R7",
        "outputId": "50cd7a26-ac22-4294-d909-673387582b96"
      },
      "execution_count": null,
      "outputs": [
        {
          "output_type": "display_data",
          "data": {
            "text/plain": [
              "<Figure size 640x480 with 1 Axes>"
            ],
            "image/png": "[encoded data removed]"
          },
          "metadata": {}
        }
      ]
    },
    {
      "cell_type": "markdown",
      "source": [
        "# ***MACHINE LEARNING MODELS***\n"
      ],
      "metadata": {
        "id": "y5Xn5-Xj1Qdt"
      }
    },
    {
      "cell_type": "code",
      "source": [
        "from sklearn.model_selection import train_test_split\n",
        "from sklearn.neighbors import KNeighborsRegressor\n",
        "from sklearn.tree import DecisionTreeRegressor\n",
        "from sklearn.metrics import mean_squared_error\n",
        "\n",
        "# Define features (X) and target variable (y)\n",
        "X = combined_df[['SqrtTweetWeight']]  # Features (Tweet Weights About Consists GPT)\n",
        "y = combined_df['SqrtTradeVol']  # Target variable (Nvidia Trade Volume)\n",
        "\n",
        "# Split the data into training and testing sets\n",
        "X_train, X_test, y_train, y_test = train_test_split(X, y, test_size=0.2, random_state=42)\n",
        "\n",
        "# Initialize and train the kNN model with 1 neighbor\n",
        "knn = KNeighborsRegressor(n_neighbors=1)\n",
        "knn.fit(X_train, y_train)\n",
        "\n",
        "# Predict on the test set\n",
        "knn_predictions = knn.predict(X_test)\n",
        "\n",
        "# Evaluate the model\n",
        "knn_mse = mean_squared_error(y_test, knn_predictions)\n",
        "print(f'kNN Mean Squared Error: {knn_mse}')\n",
        "\n",
        "\n",
        "# Decision Tree Regressor\n",
        "dt_model = DecisionTreeRegressor(random_state=42)\n",
        "dt_model.fit(X_train, y_train)\n",
        "y_pred_dt = dt_model.predict(X_test)\n",
        "\n",
        "# Predict on the test set\n",
        "dt_predictions = dt_model.predict(X_test)\n",
        "\n",
        "# Evaluate the model\n",
        "dt_mse = mean_squared_error(y_test, dt_predictions)\n",
        "print(f'DEcision Tree Mean Squared Error: {dt_mse}')\n",
        "\n"
      ],
      "metadata": {
        "id": "yJA_bSXL1UVh",
        "colab": {
          "base_uri": "https://localhost:8080/"
        },
        "outputId": "951b5b53-777d-4c75-cf0b-24d327ce03a3"
      },
      "execution_count": null,
      "outputs": [
        {
          "output_type": "stream",
          "name": "stdout",
          "text": [
            "kNN Mean Squared Error: 1599861.306654042\n",
            "DEcision Tree Mean Squared Error: 1599861.306654042\n"
          ]
        }
      ]
    }
  ]
}